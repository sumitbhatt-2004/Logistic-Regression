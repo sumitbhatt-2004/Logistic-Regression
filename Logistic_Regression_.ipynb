{
  "nbformat": 4,
  "nbformat_minor": 0,
  "metadata": {
    "colab": {
      "provenance": []
    },
    "kernelspec": {
      "name": "python3",
      "display_name": "Python 3"
    },
    "language_info": {
      "name": "python"
    }
  },
  "cells": [
    {
      "cell_type": "markdown",
      "source": [
        "Theoretical Question:"
      ],
      "metadata": {
        "id": "Yz645cgUYzLV"
      }
    },
    {
      "cell_type": "markdown",
      "source": [
        "Question 1) What is Logistic Regression, and how does it differ from Linear Regression?\n",
        "\n",
        "Solution :\n",
        "  \n",
        "   **Logistic Regression**: A classification algorithm used to predict the probability of a binary outcome. It models the relationship between a set of independent variables and a dependent variable that can take only two values (0 or 1, yes or no). The core of Logistic Regression is the *sigmoid function*, which transforms the output of a linear equation into a probability between 0 and 1.\n",
        "\n",
        "  **Linear Regression**: A regression algorithm used to predict a continuous dependent variable based on one or more independent variables. It models a linear relationship between the variables, attempting to find the best-fitting straight line (or hyperplane in higher dimensions) through the data.\n",
        "                    \n",
        "\n",
        "Question 2) What is the mathematical equation of Logistic Regression?\n",
        "\n",
        "Solution :\n",
        "\n",
        "    The Logistic Regression equation consists of two main parts:\n",
        "\n",
        "    1.  **Linear Combination**:\n",
        "        `z = b0 + b1*x1 + b2*x2 + ... + bn*xn`\n",
        "\n",
        "        *   Where:\n",
        "            *   `z` is the linear combination of input features.\n",
        "            *   `b0` is the y-intercept (bias).\n",
        "            *   `b1, b2, ..., bn` are the coefficients (weights) of the features.\n",
        "            *   `x1, x2, ..., xn` are the input features.\n",
        "    2.  **Sigmoid Function**:\n",
        "        `p = 1 / (1 + e^(-z))`\n",
        "\n",
        "        *   Where:\n",
        "            *   `p` is the predicted probability of the positive class (0 or 1).\n",
        "            *   `e` is the base of the natural logarithm (Euler's number, approximately 2.71828).\n",
        "            *   `z` is the result of the linear combination from step 1.\n",
        "    *   The sigmoid function ensures that the output `p` is always between 0 and 1, making it interpretable as a probability.\n",
        "\n",
        "Question : 3) Why do we use the Sigmoid function in Logistic Regression?\n",
        "\n",
        "solution :\n",
        "\n",
        "    *   The *Sigmoid function* (also known as the logistic function) is used in Logistic Regression for several key reasons:\n",
        "        1.  **Probability Output**: It maps any real-valued number into a value between 0 and 1, which can be interpreted as the probability of belonging to a particular class.\n",
        "        2.  **Non-Linearity**: It introduces non-linearity into the model, allowing Logistic Regression to model complex relationships between the independent variables and the probability of the dependent variable.\n",
        "        3.  **Differentiability**: It is differentiable, which is essential for gradient-based optimization algorithms used to train the model.\n",
        "        4.  **Easy Interpretation**: The output of the sigmoid function can be easily interpreted as the probability of the positive class. If `p > 0.5`, the instance is predicted as the positive class; otherwise, it is predicted as the negative class.\n",
        "\n",
        "Question  4) What is the cost function of Logistic Regression?\n",
        "\n",
        "solution :  The cost function in Logistic Regression, also known as the *Log Loss* or *Binary Cross-Entropy Loss*, quantifies the error between predicted probabilities and the actual labels.\n",
        "    *   For a single data point, the Log Loss is defined as:\n",
        "\n",
        "        `Cost(p, y) = -y * log(p) - (1 - y) * log(1 - p)`\n",
        "\n",
        "        *   Where:\n",
        "\n",
        "            *   `p` is the predicted probability of the positive class.\n",
        "            *   `y` is the actual label (0 or 1).\n",
        "        *   When `y = 1` (positive class), the cost is `-log(p)`. So, if `p` is close to 1 (correct prediction), the cost is close to 0. If `p` is close to 0 (incorrect prediction), the cost approaches infinity.\n",
        "        *   When `y = 0` (negative class), the cost is `-log(1 - p)`. So, if `p` is close to 0 (correct prediction), the cost is close to 0. If `p` is close to 1 (incorrect prediction), the cost approaches infinity.\n",
        "    *   The overall cost function for the entire dataset is the average of the Log Loss over all data points:\n",
        "\n",
        "        `J = (1/n) * Σ [ -yi * log(pi) - (1 - yi) * log(1 - pi) ]`\n",
        "\n",
        "        *   Where:\n",
        "\n",
        "            *   `n` is the number of data points.\n",
        "            *   `yi` is the actual label for the i-th data point.\n",
        "            *   `pi` is the predicted probability for the i-th data point.\n",
        "    *   The goal of Logistic Regression is to minimize this cost function, finding the parameters that best fit the data.\n",
        "\n",
        "Question  5) What is Regularization in Logistic Regression? Why is it needed?\n",
        "\n",
        "solution : *Regularization* is a technique used to prevent overfitting in Logistic Regression (and other machine learning models) by adding a penalty term to the cost function. This penalty discourages the model from assigning overly large coefficients to the features.\n",
        "\n",
        "    *   **Why is it needed?**\n",
        "        *   **Overfitting**: Overfitting occurs when a model learns the training data too well, capturing noise and outliers. This results in excellent performance on the training set but poor generalization to new, unseen data.\n",
        "        *   **High Variance**: Overfitted models have high variance, meaning they are very sensitive to small fluctuations in the training data.\n",
        "        *   **Complexity**: Overfitting often leads to complex models with large coefficients, which can be difficult to interpret and may not generalize well.\n",
        "    *   **How Regularization Works**:\n",
        "        *   Regularization adds a penalty term to the cost function that is proportional to the magnitude of the coefficients. The goal is to minimize the cost function while keeping the coefficients small.\n",
        "        *   The two most common types of regularization in Logistic Regression are L1 (Lasso) and L2 (Ridge) regularization.\n",
        "\n",
        "Question 6) Explain the difference between Lasso, Ridge, and Elastic Net regression.\n",
        "\n",
        "solution :\n",
        "\n",
        "    *   *Lasso (L1) Regression*:\n",
        "\n",
        "        *   Adds a penalty term proportional to the *absolute value* of the coefficients to the cost function.\n",
        "        *   `Cost Function = Original Cost + λ * Σ |βi|`\n",
        "        *   Where:\n",
        "            *   `λ` is the regularization parameter.\n",
        "            *   `βi` are the coefficients of the features.\n",
        "        *   **Feature Selection**: Lasso can shrink some coefficients to exactly zero, effectively performing feature selection. This makes it useful when dealing with datasets with many irrelevant or redundant features.\n",
        "    *   *Ridge (L2) Regression*:\n",
        "\n",
        "        *   Adds a penalty term proportional to the *square* of the coefficients to the cost function.\n",
        "        *   `Cost Function = Original Cost + λ * Σ βi^2`\n",
        "        *   Where:\n",
        "            *   `λ` is the regularization parameter.\n",
        "            *   `βi` are the coefficients of the features.\n",
        "        *   **Coefficient Reduction**: Ridge reduces the magnitude of all coefficients but does not force any to zero. It is effective in reducing multicollinearity and improving the stability of the model.\n",
        "    *   *Elastic Net Regression*:\n",
        "\n",
        "        *   Combines L1 (Lasso) and L2 (Ridge) regularization.\n",
        "        *   `Cost Function = Original Cost + λ1 * Σ |βi| + λ2 * Σ βi^2`\n",
        "        *   Where:\n",
        "            *   `λ1` and `λ2` are the regularization parameters for L1 and L2 penalties, respectively.\n",
        "        *   **Hybrid Approach**: Elastic Net balances feature selection and coefficient reduction. It is useful when dealing with datasets with many features, some of which may be correlated.\n",
        "    *   **Summary Table**:\n",
        "\n",
        "        | Feature          | Lasso (L1)                          | Ridge (L2)                          | Elastic Net                              |\n",
        "        | :--------------- | :---------------------------------- | :---------------------------------- | :--------------------------------------- |\n",
        "        | **Penalty**      | Absolute value of coefficients      | Square of coefficients              | Combination of L1 and L2                 |\n",
        "        | **Effect**       | Feature selection (zeros out coeffs) | Reduces coefficient magnitude       | Balances feature selection and reduction |\n",
        "        | **Use Case**     | Many irrelevant features            | Multicollinearity                   | High-dimensional data with correlations |\n",
        "\n",
        "Question  7) When should we use Elastic Net instead of Lasso or Ridge?\n",
        "\n",
        "solution :\n",
        "\n",
        "    *   Elastic Net is most appropriate in scenarios where:\n",
        "        *   **High-Dimensional Data**: When you have a large number of features compared to the number of observations.\n",
        "        *   **Multicollinearity**: When there are correlations among the features.\n",
        "        *   **Uncertainty**: When you are unsure whether Lasso or Ridge is more appropriate. Elastic Net provides a balance between feature selection and coefficient reduction.\n",
        "        *   **Lasso Limitations**: When Lasso selects only one feature from a group of highly correlated features, Elastic Net can select multiple correlated features, which may be more appropriate.\n",
        "    *   In summary, Elastic Net is a good choice when you need both feature selection and coefficient reduction, especially when dealing with complex datasets with many features and potential correlations.\n",
        "\n",
        "Question  8) What is the impact of the regularization parameter (λ) in Logistic Regression?\n",
        "\n",
        "solution :  The regularization parameter, often denoted as `λ` (lambda), controls the strength of the regularization penalty. It determines the trade-off between fitting the training data well and keeping the coefficients small.\n",
        "\n",
        "        *   **Large λ (Strong Regularization)**:\n",
        "\n",
        "            *   **Effect**: The penalty term becomes more significant, forcing the model to reduce the magnitude of the coefficients.\n",
        "            *   **Impact**:\n",
        "                *   **Simpler Model**: The model becomes simpler, with smaller coefficients.\n",
        "                *   **Reduced Overfitting**: Helps prevent overfitting by reducing the model's sensitivity to noise in the training data.\n",
        "                *   **Increased Bias**: Can lead to underfitting if `λ` is too large, as the model may become too simple to capture the underlying patterns in the data.\n",
        "                *   **Coefficient Shrinkage**: Coefficients are pushed towards zero. In Lasso (L1) regularization, some coefficients may be exactly zero, leading to feature selection.\n",
        "        *   **Small λ (Weak Regularization)**:\n",
        "\n",
        "            *   **Effect**: The penalty term becomes less significant, allowing the model to fit the training data more closely.\n",
        "            *   **Impact**:\n",
        "                *   **Complex Model**: The model becomes more complex, with larger coefficients.\n",
        "                *   **Increased Overfitting**: Can lead to overfitting, especially if the model is too complex for the amount of training data available.\n",
        "                *   **Reduced Bias**: The model can capture more of the underlying patterns in the data.\n",
        "        *   **λ = 0 (No Regularization)**:\n",
        "\n",
        "            *   **Effect**: There is no regularization penalty.\n",
        "            *   **Impact**:\n",
        "                *   **Unconstrained Model**: The model can fit the training data as closely as possible.\n",
        "                *   **Maximum Overfitting**: High risk of overfitting, especially with complex models and limited data.\n",
        "    *   **Choosing the Right λ**:\n",
        "        *   The optimal value of `λ` is typically determined using techniques such as cross-validation. You can test a range of `λ` values and select the one that provides the best performance on a validation set.\n",
        "\n",
        "Question  9) What are the key assumptions of Logistic Regression?\n",
        "\n",
        "solution :    Logistic Regression makes several key assumptions about the data:\n",
        "\n",
        "        1.  **Linearity of Log-Odds**: Logistic Regression assumes a linear relationship between the independent variables and the *log-odds* (logit) of the dependent variable. The log-odds is defined as `log(p / (1 - p))`, where `p` is the probability of the positive class.\n",
        "        2.  **Independence of Errors**: The errors (residuals) are assumed to be independent of each other. This means that the error for one data point should not be correlated with the error for another data point.\n",
        "        3.  **Absence of Multicollinearity**: Multicollinearity occurs when independent variables are highly correlated with each other. Logistic Regression assumes that there is little or no multicollinearity among the independent variables. High multicollinearity can lead to unstable and unreliable coefficient estimates.\n",
        "        4.  **Sufficiently Large Dataset**: Logistic Regression requires a sufficiently large dataset to provide stable and reliable estimates of the coefficients. A general rule of thumb is to have at least 10 events (positive outcomes) per independent variable.\n",
        "        5.  **Correct Specification**: The model should include all relevant variables and exclude irrelevant ones. Omission of important variables can lead to biased coefficient estimates, while inclusion of irrelevant variables can reduce the precision of the estimates.\n",
        "\n",
        "Question 10) What are some alternatives to Logistic Regression for classification tasks?\n",
        "\n",
        "solution :  While Logistic Regression is a powerful and widely used classification algorithm, there are several alternatives that may be more appropriate depending on the specific characteristics of the data and the problem at hand. Some common alternatives include:\n",
        "        1.  **Support Vector Machines (SVM)**: Effective in high-dimensional spaces and can model non-linear relationships using kernel functions.\n",
        "        2.  **Decision Trees**: Simple to understand and interpret, can handle both categorical and numerical data, and can model non-linear relationships.\n",
        "        3.  **Random Forests**: Ensemble learning method that combines multiple decision trees to improve accuracy and reduce overfitting.\n",
        "        4.  **Gradient Boosting Machines (GBM)**: Another ensemble learning method that builds a strong classifier by combining weak learners (typically decision trees) in a sequential manner.\n",
        "        5.  **Neural Networks**: Can model complex non-linear relationships and are suitable for large datasets with many features.\n",
        "        6.  **Naive Bayes**: Based on Bayes' theorem and assumes independence between features. It is computationally efficient and works well with high-dimensional data.\n",
        "        7.  **K-Nearest Neighbors (KNN)**: Classifies data points based on the majority class of their k-nearest neighbors in the feature space.\n",
        "\n",
        "Question 11) What are Classification Evaluation Metrics?\n",
        "\n",
        "solution :\n",
        "\n",
        "    *   *Classification evaluation metrics* are used to assess the performance of a classification model. These metrics provide insights into how well the model is classifying instances into different categories. Common classification evaluation metrics include:\n",
        "        1.  **Accuracy**:\n",
        "            *   *Definition*: The proportion of correctly classified instances out of the total number of instances.\n",
        "            *   `Accuracy = (TP + TN) / (TP + TN + FP + FN)`\n",
        "            *   Where:\n",
        "                *   `TP` = True Positives\n",
        "                *   `TN` = True Negatives\n",
        "                *   `FP` = False Positives\n",
        "                *   `FN` = False Negatives\n",
        "            *   *Use Case*: Useful when the classes are balanced.\n",
        "        2.  **Precision**:\n",
        "            *   *Definition*: The proportion of true positive predictions out of all positive predictions.\n",
        "            *   `Precision = TP / (TP + FP)`\n",
        "            *   *Use Case*: Measures how well the model avoids false positives.\n",
        "        3.  **Recall (Sensitivity or True Positive Rate)**:\n",
        "            *   *Definition*: The proportion of true positive predictions out of all actual positive instances.\n",
        "            *   `Recall = TP / (TP + FN)`\n",
        "            *   *Use Case*: Measures how well the model avoids false negatives.\n",
        "        4.  **F1-Score**:\n",
        "            *   *Definition*: The harmonic mean of precision and recall.\n",
        "            *   `F1-Score = 2 * (Precision * Recall) / (Precision + Recall)`\n",
        "            *   *Use Case*: Provides a balanced measure of precision and recall, useful when classes are imbalanced.\n",
        "        5.  **AUC-ROC (Area Under the Receiver Operating Characteristic Curve)**:\n",
        "            *   *Definition*: Measures the ability of the model to distinguish between classes at various threshold settings.\n",
        "            *   *Use Case*: Useful when you want to evaluate the model's performance across different probability thresholds.\n",
        "            *   **ROC Curve**: Plots the true positive rate (recall) against the false positive rate at various threshold settings.\n",
        "            *   **AUC**: Represents the area under the ROC curve. A higher AUC indicates better performance.\n",
        "        6.  **Confusion Matrix**:\n",
        "            *   *Definition*: A table that summarizes the performance of a classification model by showing the counts of true positive, true negative, false positive, and false negative predictions.\n",
        "            *   *Use Case*: Provides a detailed breakdown of the model's performance, allowing you to identify specific areas where the model excels or struggles.\n",
        "\n",
        "Question  12) How does class imbalance affect Logistic Regression?\n",
        "\n",
        "solution :\n",
        "   *Class imbalance* occurs when the number of instances in one class is significantly higher than the number of instances in another class. This can have a significant impact on the performance of Logistic Regression:\n",
        "        1.  **Biased Predictions**: Logistic Regression tends to be biased towards the majority class, as it tries to minimize the overall error rate. This can lead to poor performance on the minority class, which is often the class of interest.\n",
        "        2.  **Misleading Accuracy**: Accuracy can be misleading when there is a class imbalance. A model that always predicts the majority class can achieve high accuracy, even if it performs poorly on the minority class.\n",
        "        3.  **Poor Generalization**: Models trained on imbalanced datasets may not generalize well to new, unseen data, especially for the minority class.\n",
        "    *   **Techniques for Handling Class Imbalance**:\n",
        "        1.  **Resampling Techniques**:\n",
        "            *   **Oversampling**: Increase the number of instances in the minority class by duplicating existing instances or creating synthetic instances (e.g., using SMOTE).\n",
        "            *   **Undersampling**: Decrease the number of instances in the majority class by randomly removing instances.\n",
        "        2.  **Cost-Sensitive Learning**: Assign different misclassification costs to different classes, giving higher weight to misclassifications of the minority class.\n",
        "        3.  **Threshold Adjustment**: Adjust the classification threshold to optimize performance on the minority class. The default threshold is typically 0.5, but you can adjust it to a different value based on the specific requirements of the problem.\n",
        "        4.  **Ensemble Methods**: Use ensemble methods like Random Forests or Gradient Boosting, which can handle class imbalance more effectively than Logistic Regression.\n",
        "        5.  **Evaluation Metrics**: Use appropriate evaluation metrics that are less sensitive to class imbalance, such as precision, recall, F1-score, and AUC-ROC.\n",
        "\n",
        "Question :  13) What is Hyperparameter Tuning in Logistic Regression?\n",
        "\n",
        "Solution: Hyperparameter tuning* is the process of finding the optimal values for the hyperparameters of a machine learning model. Hyperparameters are parameters that are not learned from the data but are set prior to training.\n",
        "    *   **Common Hyperparameters in Logistic Regression**:\n",
        "        *   `penalty`: Specifies the type of regularization to use (e.g., 'l1', 'l2', 'elasticnet').\n",
        "        *   `C`: Inverse of the regularization strength. Smaller values specify stronger regularization.\n",
        "        *   `solver`: Algorithm used for optimization (e.g., 'liblinear', 'lbfgs', 'sag', 'saga').\n",
        "        *   `l1_ratio`: Used when `penalty='elasticnet'`. Specifies the ratio of L1 penalty to L2 penalty.\n",
        "    *   **Techniques for Hyperparameter Tuning**:\n",
        "        1.  **Grid Search**: Exhaustively search through a predefined subset of the hyperparameter space.\n",
        "        2.  **Random Search**: Randomly sample hyperparameter combinations from a predefined distribution.\n",
        "        3.  **Cross-Validation**: Use cross-validation to evaluate the performance of each hyperparameter combination. Common techniques include k-fold cross-validation and stratified k-fold cross-validation.\n",
        "\n",
        "Question 14) What are different solvers in Logistic Regression? Which one should be used?\n",
        "\n",
        "solution : In Logistic Regression, *solvers* are optimization algorithms used to find the parameters that minimize the cost function. Different solvers have different strengths and weaknesses and are suitable for different types of data and regularization.\n",
        "    *   **Common Solvers in Logistic Regression**:\n",
        "        1.  `liblinear`:\n",
        "\n",
        "            *   *Description*: A library for linear classification that supports L1 and L2 regularization.\n",
        "            *   *Suitable For*: Small to medium-sized datasets. Works well with L1 regularization.\n",
        "        2.  `lbfgs` (Limited-memory Broyden-Fletcher-Goldfarb-Shanno):\n",
        "\n",
        "            *   *Description*: A quasi-Newton method that approximates the Hessian matrix.\n",
        "            *   *Suitable For*: Small to medium-sized datasets. Does not support L1 regularization.\n",
        "        3.  `newton-cg`:\n",
        "\n",
        "            *   *Description*: A Newton-based method that uses the exact Hessian matrix.\n",
        "            *   *Suitable For*: Small to medium-sized datasets. Does not support L1 regularization.\n",
        "        4.  `sag` (Stochastic Average Gradient):\n",
        "\n",
        "            *   *Description*: An iterative method that uses a stochastic average gradient to update the parameters.\n",
        "            *   *Suitable For*: Large datasets. Supports L2 regularization.\n",
        "        5.  `saga` (Stochastic Average Gradient Algorithm):\n",
        "\n",
        "            *   *Description*: An extension of SAG that supports L1, L2, and Elastic Net regularization.\n",
        "            *   *Suitable For*: Large datasets. Works well with L1 regularization and Elastic Net.\n",
        "    *   **Which Solver to Use?**:\n",
        "\n",
        "        *   For small datasets: `liblinear` (especially with L1 regularization) or `lbfgs` (with L2 regularization).\n",
        "        *   For large datasets: `sag` (with L2 regularization) or `saga` (with L1, L2, or Elastic Net regularization).\n",
        "        *   If you need L1 regularization: `liblinear` (for small datasets) or `saga` (for large datasets).\n",
        "        *   If you need Elastic Net regularization: `saga`.\n",
        "\n",
        "Question :15) How is Logistic Regression extended for multiclass classification?\n",
        "\n",
        "solution : Logistic Regression is inherently a binary classification algorithm, but it can be extended to handle multiclass classification problems using two main approaches:\n",
        "        1.  **One-vs-Rest (OvR) / One-vs-All**:\n",
        "\n",
        "            *   *Description*: Train a separate Logistic Regression classifier for each class, treating it as the positive class and all other classes as the negative class.\n",
        "            *   *Prediction*: To classify a new instance, predict the probability of belonging to each class using the corresponding classifier. Assign the instance to the class with the highest probability.\n",
        "            *   *Advantages*: Simple to implement and can be used with any binary classification algorithm.\n",
        "            *   *Disadvantages*: Can suffer from class imbalance issues, as each classifier is trained on a different class distribution.\n",
        "        2.  **Softmax Regression (Multinomial Logistic Regression)**:\n",
        "\n",
        "            *   *Description*: Generalizes Logistic Regression to handle multiple classes directly. It uses the softmax function to compute the probability of belonging to each class.\n",
        "            *   *Prediction*: Assign the instance to the class with the highest probability.\n",
        "            *   *Advantages*: More efficient than OvR when the number of classes is large. Provides a more direct probability estimate for each class.\n",
        "            *   *Disadvantages*: Assumes that the classes are mutually exclusive.\n",
        "\n",
        "Question : 16) What are the advantages and disadvantages of Logistic Regression?\n",
        "\n",
        "solution :\n",
        "\n",
        "    *   **Advantages of Logistic Regression**:\n",
        "        1.  **Simple and Easy to Implement**: Logistic Regression is a straightforward algorithm that is easy to understand and implement.\n",
        "        2.  **Interpretable**: The coefficients of the model can be interpreted as the change in the log-odds of the outcome for a one-unit change in the predictor variable, making it easy to understand the impact of each feature on the outcome.\n",
        "        3.  **Efficient**: Logistic Regression is computationally efficient and can be trained quickly, even on large datasets.\n",
        "        4.  **Probabilistic Output**: Logistic Regression provides a probabilistic output, which can be useful for decision-making and risk assessment.\n",
        "        5.  **Well-understood Properties**: Logistic Regression has well-understood statistical properties and can be used to perform hypothesis testing and confidence interval estimation.\n",
        "    *   **Disadvantages of Logistic Regression**:\n",
        "        1.  **Linearity Assumption**: Logistic Regression assumes a linear relationship between the independent variables and the log-odds of the outcome. This assumption may not hold in all cases, and the model may not perform well if the relationship is non-linear.\n",
        "        2.  **Sensitivity to Irrelevant Features**: Logistic Regression can be sensitive to irrelevant features, which can reduce the accuracy and interpretability of the model.\n",
        "        3.  **Limited Complexity**: Logistic Regression is a linear model and may not be able to capture complex relationships between the features and the outcome.\n",
        "        4.  **Multicollinearity**: Logistic Regression can be affected by multicollinearity among the independent variables, which can lead to unstable and unreliable coefficient estimates.\n",
        "        5.  **Class Imbalance**: Logistic Regression can be biased towards the majority class in imbalanced datasets, leading to poor performance on the minority class.\n",
        "\n",
        "Question : 17) What are some use cases of Logistic Regression?\n",
        "\n",
        "solution :\n",
        "    *   Logistic Regression is widely used in various fields for binary classification problems. Some common use cases include:\n",
        "        1.  **Spam Detection**: Identifying whether an email is spam or not spam based on features such as the content of the email, sender information, and subject line.\n",
        "        2.  **Medical Diagnosis**: Predicting whether a patient has a certain disease or condition based on symptoms, medical history, and test results.\n",
        "        3.  **Credit Risk Assessment**: Assessing the creditworthiness of loan applicants based on factors such as credit score, income, and employment history.\n",
        "        4.  **Customer Churn Prediction**: Predicting whether a customer will churn (stop using a service or product) based on factors such as usage patterns, customer demographics, and satisfaction scores.\n",
        "        5.  **Fraud Detection**: Identifying fraudulent transactions based on transaction history, user behavior, and other relevant features.\n",
        "        6.  **Political Campaigning**: Predicting whether a voter will vote for a particular candidate based on demographics, political views, and past voting behavior.\n",
        "        7.  **Marketing**: Predicting whether a customer will respond to a marketing campaign based on demographics, past purchase behavior, and other relevant factors.\n",
        "\n",
        "Question : 18) What is the difference between Softmax Regression and Logistic Regression?\n",
        "\n",
        "solution :\n",
        "\n",
        "    *   The key difference between Softmax Regression and Logistic Regression lies in the number of classes they can handle:\n",
        "        *   **Logistic Regression**: Designed for binary classification problems, where the dependent variable has only two possible outcomes (e.g., 0 or 1, yes or no).\n",
        "        *   **Softmax Regression**: An extension of Logistic Regression that handles multiclass classification problems, where the dependent variable can have more than two possible outcomes (e.g., classifying images into different categories).\n",
        "    *   **Mathematical Difference**:\n",
        "        *   **Logistic Regression**: Uses the sigmoid function to model the probability of the positive class.\n",
        "        *   **Softmax Regression**: Uses the softmax function to model the probability of belonging to each class. The softmax function generalizes the sigmoid function to multiple classes.\n",
        "\n",
        "Question 19) How do we choose between One-vs-Rest (OvR) and Softmax for multiclass classification?\n",
        "\n",
        "solution :  The choice between One-vs-Rest (OvR) and Softmax Regression for multiclass classification depends on the specific characteristics of the problem:\n",
        "        1.  **Mutually Exclusive Classes**:\n",
        "\n",
        "            *   **Softmax Regression**: Suitable when the classes are mutually exclusive, meaning that each instance can belong to only one class.\n",
        "            *   **OvR**: Can be used even when the classes are not mutually exclusive.\n",
        "        2.  **Number of Classes**:\n",
        "\n",
        "            *   **Softmax Regression**: More efficient than OvR when the number of classes is large, as it trains a single model instead of multiple models.\n",
        "            *   **OvR**: Can be more efficient than Softmax Regression when the number of classes is small.\n",
        "        3.  **Class Imbalance**:\n",
        "\n",
        "            *   **OvR**: Can suffer from class imbalance issues, as each classifier is trained on a different class distribution.\n",
        "            *   **Softmax Regression**: Can also be affected by class imbalance, but to a lesser extent than OvR.\n",
        "        4.  **Interpretability**:\n",
        "\n",
        "            *   **OvR**: Easier to interpret than Softmax Regression, as each classifier is trained to distinguish one class from all others.\n",
        "            *   **Softmax Regression**: Provides a more direct probability estimate for each class.\n",
        "    *   **General Guidelines**:\n",
        "        *   Use Softmax Regression when the classes are mutually exclusive and the number of classes is large.\n",
        "        *   Use OvR when the classes are not mutually exclusive or when you need to train multiple binary classifiers for each class.\n",
        "\n",
        "Question :20) How do we interpret coefficients in Logistic Regression?\n",
        "\n",
        "Solution:\n",
        "\n",
        "    *   In Logistic Regression, the coefficients represent the change in the log-odds of the outcome for a one-unit change in the predictor variable, holding all other variables constant.\n",
        "        1.  **Log-Odds**: The log-odds (also known as the logit) is defined as `log(p / (1 - p))`, where `p` is the probability of the positive class.\n",
        "        2.  **Coefficient Interpretation**: A positive coefficient indicates that an increase in the predictor variable is associated with an increase in the log-odds of the outcome, while a negative coefficient indicates that an increase in the predictor variable is associated with a decrease in the log-odds of the outcome.\n",
        "        3.  **Odds Ratio**: The odds ratio is the exponentiated value of the coefficient (e.g., `exp(coefficient)`). It represents the change in the odds of the outcome for a one-unit change in the predictor variable.\n",
        "            *   An odds ratio greater than 1 indicates that an increase in the predictor variable is associated with an increase in the odds of the outcome.\n",
        "            *   An odds ratio less than 1 indicates that an increase in the predictor variable is associated with a decrease in the odds of the outcome.\n",
        "            *   An odds ratio equal to 1 indicates that the predictor variable has no effect on the odds of the outcome.\n",
        "    *   **Example**:\n",
        "\n",
        "        *   Suppose the coefficient for a predictor variable \"age\" is 0.05. This means that for every one-year increase in age, the log-odds of the outcome increase by 0.05. The odds ratio is `exp(0.05) ≈ 1.0513`. This means that for every one-year increase in age, the odds of the outcome increase by approximately 5.13%.\n",
        "\n",
        "\n",
        "\n"
      ],
      "metadata": {
        "id": "JLk7bzIhZCfF"
      }
    },
    {
      "cell_type": "markdown",
      "source": [
        "PRATICAL QUESTION :"
      ],
      "metadata": {
        "id": "pRZPVXz7ev58"
      }
    },
    {
      "cell_type": "code",
      "execution_count": 8,
      "metadata": {
        "colab": {
          "base_uri": "https://localhost:8080/"
        },
        "id": "BJWRshDvYbUc",
        "outputId": "9e6c7b77-e50f-4c08-9ef6-9a8e0ee3235d"
      },
      "outputs": [
        {
          "output_type": "stream",
          "name": "stdout",
          "text": [
            "Model Accuracy: 0.85\n"
          ]
        }
      ],
      "source": [
        "##SOLUTION 1\n",
        "\n",
        "import numpy as np\n",
        "from sklearn.model_selection import train_test_split\n",
        "from sklearn.linear_model import LogisticRegression\n",
        "from sklearn.metrics import accuracy_score\n",
        "from sklearn.datasets import make_classification\n",
        "\n",
        "\n",
        "X, y = make_classification(n_samples=1000, n_features=20, random_state=42)\n",
        "X_train, X_test, y_train, y_test = train_test_split(X, y, test_size=0.3, random_state=42)\n",
        "\n",
        "\n",
        "logistic_regression = LogisticRegression(random_state=42)\n",
        "logistic_regression.fit(X_train, y_train)\n",
        "y_pred = logistic_regression.predict(X_test)\n",
        "\n",
        "\n",
        "accuracy = accuracy_score(y_test, y_pred)\n",
        "print(\"Model Accuracy:\", accuracy)"
      ]
    },
    {
      "cell_type": "code",
      "source": [
        "## SOLUTION 2\n",
        "\n",
        "import numpy as np\n",
        "from sklearn.model_selection import train_test_split\n",
        "from sklearn.linear_model import LogisticRegression\n",
        "from sklearn.metrics import accuracy_score\n",
        "from sklearn.datasets import make_classification\n",
        "\n",
        "\n",
        "X, y = make_classification(n_samples=1000, n_features=20, random_state=42)\n",
        "X_train, X_test, y_train, y_test = train_test_split(X, y, test_size=0.3, random_state=42)\n",
        "\n",
        "\n",
        "logistic_regression_l1 = LogisticRegression(penalty='l1', solver='liblinear', random_state=42)\n",
        "logistic_regression_l1.fit(X_train, y_train)\n",
        "y_pred_l1 = logistic_regression_l1.predict(X_test)\n",
        "\n",
        "\n",
        "accuracy_l1 = accuracy_score(y_test, y_pred_l1)\n",
        "print(\"Model Accuracy with L1 Regularization:\", accuracy_l1)"
      ],
      "metadata": {
        "colab": {
          "base_uri": "https://localhost:8080/"
        },
        "id": "72wl71Mxh2Zj",
        "outputId": "cf890e1d-5254-4302-d23b-4c9c1b18d872"
      },
      "execution_count": 9,
      "outputs": [
        {
          "output_type": "stream",
          "name": "stdout",
          "text": [
            "Model Accuracy with L1 Regularization: 0.8466666666666667\n"
          ]
        }
      ]
    },
    {
      "cell_type": "code",
      "source": [
        "## SOLUTION 3\n",
        "import numpy as np\n",
        "from sklearn.model_selection import train_test_split\n",
        "from sklearn.linear_model import LogisticRegression\n",
        "from sklearn.metrics import accuracy_score\n",
        "from sklearn.datasets import make_classification\n",
        "\n",
        "\n",
        "X, y = make_classification(n_samples=1000, n_features=20, random_state=42)\n",
        "X_train, X_test, y_train, y_test = train_test_split(X, y, test_size=0.3, random_state=42)\n",
        "\n",
        "\n",
        "logistic_regression_l2 = LogisticRegression(penalty='l2', random_state=42)\n",
        "logistic_regression_l2.fit(X_train, y_train)\n",
        "y_pred_l2 = logistic_regression_l2.predict(X_test)\n",
        "\n",
        "\n",
        "accuracy_l2 = accuracy_score(y_test, y_pred_l2)\n",
        "print(\"Model Accuracy with L2 Regularization:\", accuracy_l2)\n",
        "print(\"Model Coefficients:\", logistic_regression_l2.coef_)"
      ],
      "metadata": {
        "colab": {
          "base_uri": "https://localhost:8080/"
        },
        "id": "Uig1BW1Difdn",
        "outputId": "b86563a5-828e-4f92-c335-24d1fb29d12e"
      },
      "execution_count": 10,
      "outputs": [
        {
          "output_type": "stream",
          "name": "stdout",
          "text": [
            "Model Accuracy with L2 Regularization: 0.85\n",
            "Model Coefficients: [[ 0.04531971 -0.51367648  0.18043533  0.03922649  0.0191467   1.67543707\n",
            "  -0.05784131  0.00673649  0.00940495  0.04407345  0.15793238  0.4703682\n",
            "   0.04286485  0.16714098 -0.53771289  0.06245592  0.10203816 -0.066461\n",
            "  -0.79229387  0.0990962 ]]\n"
          ]
        }
      ]
    },
    {
      "cell_type": "code",
      "source": [
        "##SOLUTION 4\n",
        "from sklearn.model_selection import train_test_split\n",
        "from sklearn.linear_model import LogisticRegression\n",
        "from sklearn.metrics import accuracy_score\n",
        "from sklearn.datasets import make_classification\n",
        "\n",
        "\n",
        "X, y = make_classification(n_samples=1000, n_features=20, random_state=42)\n",
        "X_train, X_test, y_train, y_test = train_test_split(X, y, test_size=0.3, random_state=42)\n",
        "\n",
        "\n",
        "logistic_regression_elasticnet = LogisticRegression(penalty='elasticnet', solver='saga', l1_ratio=0.5, random_state=42)\n",
        "logistic_regression_elasticnet.fit(X_train, y_train)\n",
        "y_pred_elasticnet = logistic_regression_elasticnet.predict(X_test)\n",
        "\n",
        "\n",
        "accuracy_elasticnet = accuracy_score(y_test, y_pred_elasticnet)\n",
        "print(\"Model Accuracy with Elastic Net Regularization:\", accuracy_elasticnet)"
      ],
      "metadata": {
        "colab": {
          "base_uri": "https://localhost:8080/"
        },
        "id": "RmEqChoWit7O",
        "outputId": "9d29ef3a-abe4-40f9-c8f8-1de5b5b7a67f"
      },
      "execution_count": 11,
      "outputs": [
        {
          "output_type": "stream",
          "name": "stdout",
          "text": [
            "Model Accuracy with Elastic Net Regularization: 0.8533333333333334\n"
          ]
        },
        {
          "output_type": "stream",
          "name": "stderr",
          "text": [
            "/usr/local/lib/python3.11/dist-packages/sklearn/linear_model/_sag.py:348: ConvergenceWarning: The max_iter was reached which means the coef_ did not converge\n",
            "  warnings.warn(\n"
          ]
        }
      ]
    },
    {
      "cell_type": "code",
      "source": [
        "##SOLUTION 5\n",
        "# 5. Write a Python program to train a Logistic Regression model for multiclass classification using multi_class='ovr'.\n",
        "from sklearn.model_selection import train_test_split\n",
        "from sklearn.linear_model import LogisticRegression\n",
        "from sklearn.metrics import accuracy_score\n",
        "from sklearn.datasets import make_classification\n",
        "\n",
        "\n",
        "X, y = make_classification(n_samples=1000, n_features=20, n_informative=15, n_redundant=5, n_classes=3, random_state=42)\n",
        "X_train, X_test, y_train, y_test = train_test_split(X, y, test_size=0.3, random_state=42)\n",
        "\n",
        "\n",
        "logistic_regression_ovr = LogisticRegression(multi_class='ovr', solver='liblinear', random_state=42)\n",
        "logistic_regression_ovr.fit(X_train, y_train)\n",
        "y_pred_ovr = logistic_regression_ovr.predict(X_test)\n",
        "\n",
        "\n",
        "accuracy_ovr = accuracy_score(y_test, y_pred_ovr)\n",
        "print(\"Model Accuracy with OvR Multiclass Classification:\", accuracy_ovr)"
      ],
      "metadata": {
        "colab": {
          "base_uri": "https://localhost:8080/"
        },
        "id": "btUVNMMxi6nx",
        "outputId": "87452feb-f90a-446a-cf36-3ccc02e188b7"
      },
      "execution_count": 12,
      "outputs": [
        {
          "output_type": "stream",
          "name": "stdout",
          "text": [
            "Model Accuracy with OvR Multiclass Classification: 0.68\n"
          ]
        },
        {
          "output_type": "stream",
          "name": "stderr",
          "text": [
            "/usr/local/lib/python3.11/dist-packages/sklearn/linear_model/_logistic.py:1256: FutureWarning: 'multi_class' was deprecated in version 1.5 and will be removed in 1.7. Use OneVsRestClassifier(LogisticRegression(..)) instead. Leave it to its default value to avoid this warning.\n",
            "  warnings.warn(\n"
          ]
        }
      ]
    },
    {
      "cell_type": "code",
      "source": [
        "##SOLUTION 6\n",
        "from sklearn.model_selection import train_test_split, GridSearchCV\n",
        "from sklearn.linear_model import LogisticRegression\n",
        "from sklearn.metrics import accuracy_score\n",
        "from sklearn.datasets import make_classification\n",
        "\n",
        "\n",
        "X, y = make_classification(n_samples=1000, n_features=20, random_state=42)\n",
        "X_train, X_test, y_train, y_test = train_test_split(X, y, test_size=0.3, random_state=42)\n",
        "\n",
        "\n",
        "param_grid = {\n",
        " 'C': [0.001, 0.01, 0.1, 1, 10, 100],\n",
        " 'penalty': ['l1', 'l2', 'elasticnet']\n",
        "}\n",
        "\n",
        "\n",
        "grid_search = GridSearchCV(LogisticRegression(solver='liblinear', random_state=42), param_grid, cv=5, scoring='accuracy')\n",
        "grid_search.fit(X_train, y_train)\n",
        "\n",
        "\n",
        "print(\"Best Parameters:\", grid_search.best_params_)\n",
        "print(\"Best Accuracy:\", grid_search.best_score_)\n",
        "\n",
        "\n",
        "best_model = grid_search.best_estimator_\n",
        "y_pred = best_model.predict(X_test)\n",
        "accuracy = accuracy_score(y_test, y_pred)\n",
        "print(\"Test Accuracy with Best Model:\", accuracy)"
      ],
      "metadata": {
        "colab": {
          "base_uri": "https://localhost:8080/"
        },
        "id": "FmCr0kaijDjl",
        "outputId": "cc5f22cb-4799-4878-ffca-61abf934abbe"
      },
      "execution_count": 13,
      "outputs": [
        {
          "output_type": "stream",
          "name": "stdout",
          "text": [
            "Best Parameters: {'C': 0.1, 'penalty': 'l1'}\n",
            "Best Accuracy: 0.8814285714285713\n",
            "Test Accuracy with Best Model: 0.8466666666666667\n"
          ]
        },
        {
          "output_type": "stream",
          "name": "stderr",
          "text": [
            "/usr/local/lib/python3.11/dist-packages/sklearn/model_selection/_validation.py:528: FitFailedWarning: \n",
            "30 fits failed out of a total of 90.\n",
            "The score on these train-test partitions for these parameters will be set to nan.\n",
            "If these failures are not expected, you can try to debug them by setting error_score='raise'.\n",
            "\n",
            "Below are more details about the failures:\n",
            "--------------------------------------------------------------------------------\n",
            "30 fits failed with the following error:\n",
            "Traceback (most recent call last):\n",
            "  File \"/usr/local/lib/python3.11/dist-packages/sklearn/model_selection/_validation.py\", line 866, in _fit_and_score\n",
            "    estimator.fit(X_train, y_train, **fit_params)\n",
            "  File \"/usr/local/lib/python3.11/dist-packages/sklearn/base.py\", line 1389, in wrapper\n",
            "    return fit_method(estimator, *args, **kwargs)\n",
            "           ^^^^^^^^^^^^^^^^^^^^^^^^^^^^^^^^^^^^^^\n",
            "  File \"/usr/local/lib/python3.11/dist-packages/sklearn/linear_model/_logistic.py\", line 1193, in fit\n",
            "    solver = _check_solver(self.solver, self.penalty, self.dual)\n",
            "             ^^^^^^^^^^^^^^^^^^^^^^^^^^^^^^^^^^^^^^^^^^^^^^^^^^^\n",
            "  File \"/usr/local/lib/python3.11/dist-packages/sklearn/linear_model/_logistic.py\", line 71, in _check_solver\n",
            "    raise ValueError(\n",
            "ValueError: Only 'saga' solver supports elasticnet penalty, got solver=liblinear.\n",
            "\n",
            "  warnings.warn(some_fits_failed_message, FitFailedWarning)\n",
            "/usr/local/lib/python3.11/dist-packages/sklearn/model_selection/_search.py:1108: UserWarning: One or more of the test scores are non-finite: [0.50714286 0.87              nan 0.87428571 0.87714286        nan\n",
            " 0.88142857 0.86714286        nan 0.87142857 0.86857143        nan\n",
            " 0.87142857 0.87              nan 0.87       0.87              nan]\n",
            "  warnings.warn(\n"
          ]
        }
      ]
    },
    {
      "cell_type": "code",
      "source": [
        "##SOLUTION 7 :\n",
        "from sklearn.model_selection import StratifiedKFold, cross_val_score\n",
        "from sklearn.linear_model import LogisticRegression\n",
        "from sklearn.datasets import make_classification\n",
        "import numpy as np\n",
        "\n",
        "\n",
        "X, y = make_classification(n_samples=1000, n_features=20, random_state=42)\n",
        "\n",
        "\n",
        "n_splits = 5\n",
        "\n",
        "\n",
        "stratified_kfold = StratifiedKFold(n_splits=n_splits, shuffle=True, random_state=42)\n",
        "logistic_regression = LogisticRegression(random_state=42)\n",
        "cv_scores = cross_val_score(logistic_regression, X, y, cv=stratified_kfold, scoring='accuracy')\n",
        "\n",
        "\n",
        "print(\"Average Accuracy:\", np.mean(cv_scores))"
      ],
      "metadata": {
        "colab": {
          "base_uri": "https://localhost:8080/"
        },
        "id": "JXHg5WoUjS1j",
        "outputId": "4d11f54c-65c8-4b2a-87fa-534d4baca217"
      },
      "execution_count": 15,
      "outputs": [
        {
          "output_type": "stream",
          "name": "stdout",
          "text": [
            "Average Accuracy: 0.869\n"
          ]
        }
      ]
    },
    {
      "cell_type": "code",
      "source": [
        "## SOLUTION 8\n",
        "\n",
        "import pandas as pd\n",
        "from sklearn.model_selection import train_test_split\n",
        "from sklearn.linear_model import LogisticRegression\n",
        "from sklearn.metrics import accuracy_score\n",
        "import numpy as np # Import numpy for mean calculation\n",
        "\n",
        "# Load the dataset\n",
        "data = pd.read_csv('/content/Car Sale.csv')\n",
        "\n",
        "# Identify numerical columns and fill missing values only in those columns\n",
        "# We use select_dtypes to pick only numeric columns\n",
        "numeric_cols = data.select_dtypes(include=np.number).columns\n",
        "data[numeric_cols] = data[numeric_cols].fillna(data[numeric_cols].mean())\n",
        "\n",
        "# Assuming 'target_column' is the name of your target variable\n",
        "# Replace 'target_column' with the actual target column name if it's different\n",
        "# Check if the target column exists before dropping\n",
        "if 'target_column' in data.columns:\n",
        "    X = data.drop('target_column', axis=1)\n",
        "    y = data['target_column']\n",
        "\n",
        "    # Handle potential non-numeric columns in X after dropping the target\n",
        "    # Convert potentially object type columns to numeric, coercing errors to NaN\n",
        "    for col in X.columns:\n",
        "        if X[col].dtype == 'object':\n",
        "            X[col] = pd.to_numeric(X[col], errors='coerce')\n",
        "\n",
        "    # Now fill any NaNs that might have been introduced by the coercion\n",
        "    X = X.fillna(X.mean(numeric_only=True))\n",
        "\n",
        "\n",
        "    X_train, X_test, y_train, y_test = train_test_split(X, y, test_size=0.3, random_state=42)\n",
        "\n",
        "    logistic_regression = LogisticRegression(random_state=42)\n",
        "    logistic_regression.fit(X_train, y_train)\n",
        "    y_pred = logistic_regression.predict(X_test)\n",
        "\n",
        "    accuracy = accuracy_score(y_test, y_pred)\n",
        "    print(\"Model Accuracy:\", accuracy)\n",
        "else:\n",
        "    print(\"Error: 'target_column' not found in the dataset. Please check the column name.\")"
      ],
      "metadata": {
        "colab": {
          "base_uri": "https://localhost:8080/"
        },
        "id": "tp5pPlK2kby4",
        "outputId": "9cc94c92-ee3d-4a9a-bb8d-89778a064d74"
      },
      "execution_count": 20,
      "outputs": [
        {
          "output_type": "stream",
          "name": "stdout",
          "text": [
            "Error: 'target_column' not found in the dataset. Please check the column name.\n"
          ]
        }
      ]
    },
    {
      "cell_type": "code",
      "source": [
        "## SOLUTION 9\n",
        "# 9. Write a Python program to apply RandomizedSearchCV for tuning hyperparameters (C, penalty, solver) in Logistic Regression. Print the best parameters and accuracy.\n",
        "from sklearn.model_selection import train_test_split, RandomizedSearchCV\n",
        "from sklearn.linear_model import LogisticRegression\n",
        "from sklearn.metrics import accuracy_score\n",
        "from sklearn.datasets import make_classification\n",
        "from scipy.stats import uniform\n",
        "\n",
        "\n",
        "X, y = make_classification(n_samples=1000, n_features=20, random_state=42)\n",
        "X_train, X_test, y_train, y_test = train_test_split(X, y, test_size=0.3, random_state=42)\n",
        "\n",
        "\n",
        "param_distributions = {\n",
        " 'C': uniform(0.001, 100),\n",
        " 'penalty': ['l1', 'l2', 'elasticnet'],\n",
        " 'solver': ['liblinear', 'saga']\n",
        "}\n",
        "\n",
        "\n",
        "randomized_search = RandomizedSearchCV(LogisticRegression(random_state=42),\n",
        " param_distributions,\n",
        " n_iter=50,\n",
        " cv=5,\n",
        " scoring='accuracy',\n",
        " random_state=42)\n",
        "randomized_search.fit(X_train, y_train)\n",
        "\n",
        "\n",
        "print(\"Best Parameters:\", randomized_search.best_params_)\n",
        "print(\"Best Accuracy:\", randomized_search.best_score_)\n",
        "\n",
        "\n",
        "best_model = randomized_search.best_estimator_\n",
        "y_pred = best_model.predict(X_test)\n",
        "accuracy = accuracy_score(y_test, y_pred)\n",
        "print(\"Test Accuracy with Best Model:\", accuracy)"
      ],
      "metadata": {
        "colab": {
          "base_uri": "https://localhost:8080/"
        },
        "id": "na72zIVjkh_4",
        "outputId": "9c5646bc-3a3d-4f06-b2de-90f2738bcce9"
      },
      "execution_count": 21,
      "outputs": [
        {
          "output_type": "stream",
          "name": "stderr",
          "text": [
            "/usr/local/lib/python3.11/dist-packages/sklearn/linear_model/_sag.py:348: ConvergenceWarning: The max_iter was reached which means the coef_ did not converge\n",
            "  warnings.warn(\n",
            "/usr/local/lib/python3.11/dist-packages/sklearn/linear_model/_sag.py:348: ConvergenceWarning: The max_iter was reached which means the coef_ did not converge\n",
            "  warnings.warn(\n",
            "/usr/local/lib/python3.11/dist-packages/sklearn/linear_model/_sag.py:348: ConvergenceWarning: The max_iter was reached which means the coef_ did not converge\n",
            "  warnings.warn(\n",
            "/usr/local/lib/python3.11/dist-packages/sklearn/linear_model/_sag.py:348: ConvergenceWarning: The max_iter was reached which means the coef_ did not converge\n",
            "  warnings.warn(\n",
            "/usr/local/lib/python3.11/dist-packages/sklearn/linear_model/_sag.py:348: ConvergenceWarning: The max_iter was reached which means the coef_ did not converge\n",
            "  warnings.warn(\n",
            "/usr/local/lib/python3.11/dist-packages/sklearn/linear_model/_sag.py:348: ConvergenceWarning: The max_iter was reached which means the coef_ did not converge\n",
            "  warnings.warn(\n",
            "/usr/local/lib/python3.11/dist-packages/sklearn/linear_model/_sag.py:348: ConvergenceWarning: The max_iter was reached which means the coef_ did not converge\n",
            "  warnings.warn(\n",
            "/usr/local/lib/python3.11/dist-packages/sklearn/linear_model/_sag.py:348: ConvergenceWarning: The max_iter was reached which means the coef_ did not converge\n",
            "  warnings.warn(\n",
            "/usr/local/lib/python3.11/dist-packages/sklearn/linear_model/_sag.py:348: ConvergenceWarning: The max_iter was reached which means the coef_ did not converge\n",
            "  warnings.warn(\n",
            "/usr/local/lib/python3.11/dist-packages/sklearn/linear_model/_sag.py:348: ConvergenceWarning: The max_iter was reached which means the coef_ did not converge\n",
            "  warnings.warn(\n",
            "/usr/local/lib/python3.11/dist-packages/sklearn/linear_model/_sag.py:348: ConvergenceWarning: The max_iter was reached which means the coef_ did not converge\n",
            "  warnings.warn(\n",
            "/usr/local/lib/python3.11/dist-packages/sklearn/linear_model/_sag.py:348: ConvergenceWarning: The max_iter was reached which means the coef_ did not converge\n",
            "  warnings.warn(\n",
            "/usr/local/lib/python3.11/dist-packages/sklearn/linear_model/_sag.py:348: ConvergenceWarning: The max_iter was reached which means the coef_ did not converge\n",
            "  warnings.warn(\n",
            "/usr/local/lib/python3.11/dist-packages/sklearn/linear_model/_sag.py:348: ConvergenceWarning: The max_iter was reached which means the coef_ did not converge\n",
            "  warnings.warn(\n",
            "/usr/local/lib/python3.11/dist-packages/sklearn/linear_model/_sag.py:348: ConvergenceWarning: The max_iter was reached which means the coef_ did not converge\n",
            "  warnings.warn(\n",
            "/usr/local/lib/python3.11/dist-packages/sklearn/linear_model/_sag.py:348: ConvergenceWarning: The max_iter was reached which means the coef_ did not converge\n",
            "  warnings.warn(\n",
            "/usr/local/lib/python3.11/dist-packages/sklearn/linear_model/_sag.py:348: ConvergenceWarning: The max_iter was reached which means the coef_ did not converge\n",
            "  warnings.warn(\n",
            "/usr/local/lib/python3.11/dist-packages/sklearn/linear_model/_sag.py:348: ConvergenceWarning: The max_iter was reached which means the coef_ did not converge\n",
            "  warnings.warn(\n",
            "/usr/local/lib/python3.11/dist-packages/sklearn/linear_model/_sag.py:348: ConvergenceWarning: The max_iter was reached which means the coef_ did not converge\n",
            "  warnings.warn(\n",
            "/usr/local/lib/python3.11/dist-packages/sklearn/linear_model/_sag.py:348: ConvergenceWarning: The max_iter was reached which means the coef_ did not converge\n",
            "  warnings.warn(\n",
            "/usr/local/lib/python3.11/dist-packages/sklearn/linear_model/_sag.py:348: ConvergenceWarning: The max_iter was reached which means the coef_ did not converge\n",
            "  warnings.warn(\n",
            "/usr/local/lib/python3.11/dist-packages/sklearn/linear_model/_sag.py:348: ConvergenceWarning: The max_iter was reached which means the coef_ did not converge\n",
            "  warnings.warn(\n",
            "/usr/local/lib/python3.11/dist-packages/sklearn/linear_model/_sag.py:348: ConvergenceWarning: The max_iter was reached which means the coef_ did not converge\n",
            "  warnings.warn(\n",
            "/usr/local/lib/python3.11/dist-packages/sklearn/linear_model/_sag.py:348: ConvergenceWarning: The max_iter was reached which means the coef_ did not converge\n",
            "  warnings.warn(\n",
            "/usr/local/lib/python3.11/dist-packages/sklearn/linear_model/_sag.py:348: ConvergenceWarning: The max_iter was reached which means the coef_ did not converge\n",
            "  warnings.warn(\n",
            "/usr/local/lib/python3.11/dist-packages/sklearn/linear_model/_sag.py:348: ConvergenceWarning: The max_iter was reached which means the coef_ did not converge\n",
            "  warnings.warn(\n",
            "/usr/local/lib/python3.11/dist-packages/sklearn/linear_model/_sag.py:348: ConvergenceWarning: The max_iter was reached which means the coef_ did not converge\n",
            "  warnings.warn(\n",
            "/usr/local/lib/python3.11/dist-packages/sklearn/linear_model/_sag.py:348: ConvergenceWarning: The max_iter was reached which means the coef_ did not converge\n",
            "  warnings.warn(\n",
            "/usr/local/lib/python3.11/dist-packages/sklearn/linear_model/_sag.py:348: ConvergenceWarning: The max_iter was reached which means the coef_ did not converge\n",
            "  warnings.warn(\n",
            "/usr/local/lib/python3.11/dist-packages/sklearn/linear_model/_sag.py:348: ConvergenceWarning: The max_iter was reached which means the coef_ did not converge\n",
            "  warnings.warn(\n",
            "/usr/local/lib/python3.11/dist-packages/sklearn/linear_model/_sag.py:348: ConvergenceWarning: The max_iter was reached which means the coef_ did not converge\n",
            "  warnings.warn(\n"
          ]
        },
        {
          "output_type": "stream",
          "name": "stdout",
          "text": [
            "Best Parameters: {'C': np.float64(0.07887658410143283), 'penalty': 'l1', 'solver': 'liblinear'}\n",
            "Best Accuracy: 0.8842857142857141\n",
            "Test Accuracy with Best Model: 0.8433333333333334\n"
          ]
        },
        {
          "output_type": "stream",
          "name": "stderr",
          "text": [
            "/usr/local/lib/python3.11/dist-packages/sklearn/linear_model/_sag.py:348: ConvergenceWarning: The max_iter was reached which means the coef_ did not converge\n",
            "  warnings.warn(\n",
            "/usr/local/lib/python3.11/dist-packages/sklearn/linear_model/_sag.py:348: ConvergenceWarning: The max_iter was reached which means the coef_ did not converge\n",
            "  warnings.warn(\n",
            "/usr/local/lib/python3.11/dist-packages/sklearn/linear_model/_sag.py:348: ConvergenceWarning: The max_iter was reached which means the coef_ did not converge\n",
            "  warnings.warn(\n",
            "/usr/local/lib/python3.11/dist-packages/sklearn/linear_model/_sag.py:348: ConvergenceWarning: The max_iter was reached which means the coef_ did not converge\n",
            "  warnings.warn(\n",
            "/usr/local/lib/python3.11/dist-packages/sklearn/linear_model/_sag.py:348: ConvergenceWarning: The max_iter was reached which means the coef_ did not converge\n",
            "  warnings.warn(\n",
            "/usr/local/lib/python3.11/dist-packages/sklearn/model_selection/_validation.py:528: FitFailedWarning: \n",
            "70 fits failed out of a total of 250.\n",
            "The score on these train-test partitions for these parameters will be set to nan.\n",
            "If these failures are not expected, you can try to debug them by setting error_score='raise'.\n",
            "\n",
            "Below are more details about the failures:\n",
            "--------------------------------------------------------------------------------\n",
            "30 fits failed with the following error:\n",
            "Traceback (most recent call last):\n",
            "  File \"/usr/local/lib/python3.11/dist-packages/sklearn/model_selection/_validation.py\", line 866, in _fit_and_score\n",
            "    estimator.fit(X_train, y_train, **fit_params)\n",
            "  File \"/usr/local/lib/python3.11/dist-packages/sklearn/base.py\", line 1389, in wrapper\n",
            "    return fit_method(estimator, *args, **kwargs)\n",
            "           ^^^^^^^^^^^^^^^^^^^^^^^^^^^^^^^^^^^^^^\n",
            "  File \"/usr/local/lib/python3.11/dist-packages/sklearn/linear_model/_logistic.py\", line 1193, in fit\n",
            "    solver = _check_solver(self.solver, self.penalty, self.dual)\n",
            "             ^^^^^^^^^^^^^^^^^^^^^^^^^^^^^^^^^^^^^^^^^^^^^^^^^^^\n",
            "  File \"/usr/local/lib/python3.11/dist-packages/sklearn/linear_model/_logistic.py\", line 71, in _check_solver\n",
            "    raise ValueError(\n",
            "ValueError: Only 'saga' solver supports elasticnet penalty, got solver=liblinear.\n",
            "\n",
            "--------------------------------------------------------------------------------\n",
            "40 fits failed with the following error:\n",
            "Traceback (most recent call last):\n",
            "  File \"/usr/local/lib/python3.11/dist-packages/sklearn/model_selection/_validation.py\", line 866, in _fit_and_score\n",
            "    estimator.fit(X_train, y_train, **fit_params)\n",
            "  File \"/usr/local/lib/python3.11/dist-packages/sklearn/base.py\", line 1389, in wrapper\n",
            "    return fit_method(estimator, *args, **kwargs)\n",
            "           ^^^^^^^^^^^^^^^^^^^^^^^^^^^^^^^^^^^^^^\n",
            "  File \"/usr/local/lib/python3.11/dist-packages/sklearn/linear_model/_logistic.py\", line 1203, in fit\n",
            "    raise ValueError(\"l1_ratio must be specified when penalty is elasticnet.\")\n",
            "ValueError: l1_ratio must be specified when penalty is elasticnet.\n",
            "\n",
            "  warnings.warn(some_fits_failed_message, FitFailedWarning)\n",
            "/usr/local/lib/python3.11/dist-packages/sklearn/model_selection/_search.py:1108: UserWarning: One or more of the test scores are non-finite: [0.87       0.87              nan 0.87142857        nan 0.86857143\n",
            " 0.88428571 0.87       0.87       0.87              nan 0.86857143\n",
            " 0.87              nan 0.87       0.87       0.87              nan\n",
            " 0.87142857 0.86857143 0.87       0.87              nan 0.87\n",
            " 0.87       0.87       0.87       0.87       0.87       0.87\n",
            " 0.87       0.87142857        nan        nan 0.87       0.87\n",
            " 0.87              nan        nan        nan 0.87       0.87\n",
            "        nan 0.87       0.87              nan 0.87       0.87\n",
            "        nan 0.87      ]\n",
            "  warnings.warn(\n"
          ]
        }
      ]
    },
    {
      "cell_type": "code",
      "source": [
        "## SOLUTION 10\n",
        "from sklearn.model_selection import train_test_split\n",
        "from sklearn.linear_model import LogisticRegression\n",
        "from sklearn.multiclass import OneVsOneClassifier\n",
        "from sklearn.metrics import accuracy_score\n",
        "from sklearn.datasets import make_classification\n",
        "\n",
        "\n",
        "X, y = make_classification(n_samples=1000, n_features=20, n_informative=15, n_redundant=5, n_classes=3, random_state=42)\n",
        "X_train, X_test, y_train, y_test = train_test_split(X, y, test_size=0.3, random_state=42)\n",
        "\n",
        "\n",
        "ovo_logistic_regression = OneVsOneClassifier(LogisticRegression(solver='liblinear', random_state=42))\n",
        "ovo_logistic_regression.fit(X_train, y_train)\n",
        "y_pred_ovo = ovo_logistic_regression.predict(X_test)\n",
        "\n",
        "\n",
        "accuracy_ovo = accuracy_score(y_test, y_pred_ovo)\n",
        "print(\"Model Accuracy with One-vs-One Multiclass Classification:\", accuracy_ovo)"
      ],
      "metadata": {
        "colab": {
          "base_uri": "https://localhost:8080/"
        },
        "id": "1-zSu9IfkvXE",
        "outputId": "87a2ef93-96df-4b46-edbc-031ef72fd9f7"
      },
      "execution_count": 22,
      "outputs": [
        {
          "output_type": "stream",
          "name": "stdout",
          "text": [
            "Model Accuracy with One-vs-One Multiclass Classification: 0.7066666666666667\n"
          ]
        }
      ]
    },
    {
      "cell_type": "code",
      "source": [
        "## SOLUTION 11\n",
        "import numpy as np\n",
        "import matplotlib.pyplot as plt\n",
        "from sklearn.model_selection import train_test_split\n",
        "from sklearn.linear_model import LogisticRegression\n",
        "from sklearn.metrics import confusion_matrix, ConfusionMatrixDisplay\n",
        "from sklearn.datasets import make_classification\n",
        "\n",
        "\n",
        "X, y = make_classification(n_samples=1000, n_features=20, n_informative=15, n_redundant=5, random_state=42)\n",
        "X_train, X_test, y_train, y_test = train_test_split(X, y, test_size=0.3, random_state=42)\n",
        "\n",
        "\n",
        "logistic_regression = LogisticRegression(random_state=42)\n",
        "logistic_regression.fit(X_train, y_train)\n",
        "y_pred = logistic_regression.predict(X_test)\n",
        "\n",
        "\n",
        "cm = confusion_matrix(y_test, y_pred)\n",
        "disp = ConfusionMatrixDisplay(confusion_matrix=cm, display_labels=['Negative', 'Positive'])\n",
        "disp.plot()\n",
        "plt.title('Confusion Matrix')\n",
        "plt.show()"
      ],
      "metadata": {
        "colab": {
          "base_uri": "https://localhost:8080/",
          "height": 472
        },
        "id": "o0IBp9lclBhD",
        "outputId": "0d6aff6e-a8e6-4de8-8225-df6314b52f04"
      },
      "execution_count": 23,
      "outputs": [
        {
          "output_type": "display_data",
          "data": {
            "text/plain": [
              "<Figure size 640x480 with 2 Axes>"
            ],
            "image/png": "[encoded data removed]"
          },
          "metadata": {}
        }
      ]
    },
    {
      "cell_type": "code",
      "source": [
        "## SOLUTION 12\n",
        "from sklearn.model_selection import train_test_split\n",
        "from sklearn.linear_model import LogisticRegression\n",
        "from sklearn.metrics import precision_score, recall_score, f1_score\n",
        "from sklearn.datasets import make_classification\n",
        "\n",
        "\n",
        "X, y = make_classification(n_samples=1000, n_features=20, n_informative=15, n_redundant=5, random_state=42)\n",
        "X_train, X_test, y_train, y_test = train_test_split(X, y, test_size=0.3, random_state=42)\n",
        "\n",
        "\n",
        "logistic_regression = LogisticRegression(random_state=42)\n",
        "logistic_regression.fit(X_train, y_train)\n",
        "y_pred = logistic_regression.predict(X_test)\n",
        "\n",
        "\n",
        "precision = precision_score(y_test, y_pred)\n",
        "recall = recall_score(y_test, y_pred)\n",
        "f1 = f1_score(y_test, y_pred)\n",
        "\n",
        "\n",
        "print(\"Precision:\", precision)\n",
        "print(\"Recall:\", recall)\n",
        "print(\"F1-Score:\", f1)"
      ],
      "metadata": {
        "colab": {
          "base_uri": "https://localhost:8080/"
        },
        "id": "1gQmsGj2lOr4",
        "outputId": "33dc0b0c-f407-48a7-91a6-74164df080be"
      },
      "execution_count": 25,
      "outputs": [
        {
          "output_type": "stream",
          "name": "stdout",
          "text": [
            "Precision: 0.7945205479452054\n",
            "Recall: 0.8285714285714286\n",
            "F1-Score: 0.8111888111888111\n"
          ]
        }
      ]
    },
    {
      "cell_type": "code",
      "source": [
        "##SOLUTION 13\n",
        "from sklearn.model_selection import train_test_split\n",
        "from sklearn.linear_model import LogisticRegression\n",
        "from sklearn.metrics import accuracy_score\n",
        "from sklearn.datasets import make_classification\n",
        "\n",
        "\n",
        "X, y = make_classification(n_samples=1000, n_features=20, n_informative=15, n_redundant=5, weights=[0.9, 0.1], random_state=42)\n",
        "X_train, X_test, y_train, y_test = train_test_split(X, y, test_size=0.3, random_state=42)\n",
        "\n",
        "\n",
        "logistic_regression_weighted = LogisticRegression(class_weight='balanced', random_state=42)\n",
        "logistic_regression_weighted.fit(X_train, y_train)\n",
        "y_pred_weighted = logistic_regression_weighted.predict(X_test)\n",
        "accuracy_weighted = accuracy_score(y_test, y_pred_weighted)\n",
        "print(\"Model Accuracy with Class Weights:\", accuracy_weighted)\n",
        "\n",
        "\n",
        "logistic_regression = LogisticRegression(random_state=42)\n",
        "logistic_regression.fit(X_train, y_train)\n",
        "y_pred = logistic_regression.predict(X_test)\n",
        "accuracy = accuracy_score(y_test, y_pred)\n",
        "print(\"Model Accuracy without Class Weights:\", accuracy)"
      ],
      "metadata": {
        "colab": {
          "base_uri": "https://localhost:8080/"
        },
        "id": "FJwU3B_flh_7",
        "outputId": "7186a8cb-a50e-43ff-bc12-aa0c1ec41095"
      },
      "execution_count": 27,
      "outputs": [
        {
          "output_type": "stream",
          "name": "stdout",
          "text": [
            "Model Accuracy with Class Weights: 0.81\n",
            "Model Accuracy without Class Weights: 0.9233333333333333\n"
          ]
        }
      ]
    },
    {
      "cell_type": "code",
      "source": [
        "## SOLUTION 14\n",
        "import pandas as pd\n",
        "from sklearn.model_selection import train_test_split\n",
        "from sklearn.linear_model import LogisticRegression\n",
        "from sklearn.metrics import accuracy_score\n",
        "from sklearn.impute import SimpleImputer\n",
        "\n",
        "\n",
        "# Load the dataset - assuming 'titanic.csv' is in the same directory as the notebook\n",
        "# If the file is in a different location, provide the correct path.\n",
        "data = pd.read_csv('titanic.csv')\n",
        "\n",
        "\n",
        "features = ['Pclass', 'Age', 'SibSp', 'Parch', 'Fare']\n",
        "X = data[features]\n",
        "y = data['Survived']\n",
        "\n",
        "\n",
        "imputer = SimpleImputer(strategy='mean')\n",
        "X['Age'] = imputer.fit_transform(X[['Age']])\n",
        "\n",
        "\n",
        "X_train, X_test, y_train, y_test = train_test_split(X, y, test_size=0.3, random_state=42)\n",
        "\n",
        "\n",
        "logistic_regression = LogisticRegression(random_state=42)\n",
        "logistic_regression.fit(X_train, y_train)\n",
        "y_pred = logistic_regression.predict(X_test)\n",
        "\n",
        "\n",
        "accuracy = accuracy_score(y_test, y_pred)\n",
        "print(\"Model Accuracy:\", accuracy)"
      ],
      "metadata": {
        "id": "MLxa2vgQmVPv"
      },
      "execution_count": null,
      "outputs": []
    },
    {
      "cell_type": "code",
      "source": [
        "##SOLUTION 15\n",
        "from sklearn.model_selection import train_test_split\n",
        "from sklearn.linear_model import LogisticRegression\n",
        "from sklearn.metrics import accuracy_score\n",
        "from sklearn.preprocessing import StandardScaler\n",
        "from sklearn.datasets import make_classification\n",
        "\n",
        "\n",
        "X, y = make_classification(n_samples=1000, n_features=20, random_state=42)\n",
        "X_train, X_test, y_train, y_test = train_test_split(X, y, test_size=0.3, random_state=42)\n",
        "\n",
        "\n",
        "scaler = StandardScaler()\n",
        "X_train_scaled = scaler.fit_transform(X_train)\n",
        "X_test_scaled = scaler.transform(X_test)\n",
        "\n",
        "\n",
        "logistic_regression = LogisticRegression(random_state=42)\n",
        "logistic_regression.fit(X_train, y_train)\n",
        "y_pred = logistic_regression.predict(X_test)\n",
        "accuracy = accuracy_score(y_test, y_pred)\n",
        "print(\"Model Accuracy without Scaling:\", accuracy)\n",
        "\n",
        "\n",
        "logistic_regression_scaled = LogisticRegression(random_state=42)\n",
        "logistic_regression_scaled.fit(X_train_scaled, y_train)\n",
        "y_pred_scaled = logistic_regression_scaled.predict(X_test_scaled)\n",
        "accuracy_scaled = accuracy_score(y_test, y_pred_scaled)\n",
        "print(\"Model Accuracy with Scaling:\", accuracy_scaled)"
      ],
      "metadata": {
        "colab": {
          "base_uri": "https://localhost:8080/"
        },
        "id": "eSti85FCmamB",
        "outputId": "279b2521-ccb9-476c-f7cf-7c88c8b2117e"
      },
      "execution_count": 31,
      "outputs": [
        {
          "output_type": "stream",
          "name": "stdout",
          "text": [
            "Model Accuracy without Scaling: 0.85\n",
            "Model Accuracy with Scaling: 0.85\n"
          ]
        }
      ]
    },
    {
      "cell_type": "code",
      "source": [
        "## SOLUTION 16\n",
        "from sklearn.model_selection import train_test_split\n",
        "from sklearn.linear_model import LogisticRegression\n",
        "from sklearn.metrics import roc_auc_score\n",
        "from sklearn.datasets import make_classification\n",
        "\n",
        "\n",
        "X, y = make_classification(n_samples=1000, n_features=20, n_informative=15, n_redundant=5, random_state=42)\n",
        "X_train, X_test, y_train, y_test = train_test_split(X, y, test_size=0.3, random_state=42)\n",
        "\n",
        "\n",
        "logistic_regression = LogisticRegression(random_state=42)\n",
        "logistic_regression.fit(X_train, y_train)\n",
        "y_pred_proba = logistic_regression.predict_proba(X_test)[:, 1]\n",
        "\n",
        "\n",
        "roc_auc = roc_auc_score(y_test, y_pred_proba)\n",
        "print(\"ROC-AUC Score:\", roc_auc)"
      ],
      "metadata": {
        "colab": {
          "base_uri": "https://localhost:8080/"
        },
        "id": "gQJDLApimpW9",
        "outputId": "daa2bfb9-2fc0-4fa6-818f-ab0a5f544740"
      },
      "execution_count": 33,
      "outputs": [
        {
          "output_type": "stream",
          "name": "stdout",
          "text": [
            "ROC-AUC Score: 0.9071428571428571\n"
          ]
        }
      ]
    },
    {
      "cell_type": "code",
      "source": [
        "## SOLUTION 17\n",
        "from sklearn.model_selection import train_test_split\n",
        "from sklearn.linear_model import LogisticRegression\n",
        "from sklearn.metrics import accuracy_score\n",
        "from sklearn.datasets import make_classification\n",
        "\n",
        "\n",
        "X, y = make_classification(n_samples=1000, n_features=20, random_state=42)\n",
        "X_train, X_test, y_train, y_test = train_test_split(X, y, test_size=0.3, random_state=42)\n",
        "\n",
        "\n",
        "logistic_regression = LogisticRegression(C=0.5, random_state=42)\n",
        "logistic_regression.fit(X_train, y_train)\n",
        "y_pred = logistic_regression.predict(X_test)\n",
        "\n",
        "\n",
        "accuracy = accuracy_score(y_test, y_pred)\n",
        "print(\"Model Accuracy with C=0.5:\", accuracy)"
      ],
      "metadata": {
        "colab": {
          "base_uri": "https://localhost:8080/"
        },
        "id": "2t7PtVRrm5SE",
        "outputId": "edb49117-828b-4fa4-cbed-bd73db1ca718"
      },
      "execution_count": 34,
      "outputs": [
        {
          "output_type": "stream",
          "name": "stdout",
          "text": [
            "Model Accuracy with C=0.5: 0.85\n"
          ]
        }
      ]
    },
    {
      "cell_type": "code",
      "source": [
        "## SOLUTION 18\n",
        "from sklearn.model_selection import train_test_split\n",
        "from sklearn.linear_model import LogisticRegression\n",
        "from sklearn.datasets import make_classification\n",
        "import numpy as np\n",
        "\n",
        "\n",
        "X, y = make_classification(n_samples=1000, n_features=20, random_state=42)\n",
        "X_train, X_test, y_train, y_test = train_test_split(X, y, test_size=0.3, random_state=42)\n",
        "\n",
        "\n",
        "logistic_regression = LogisticRegression(random_state=42)\n",
        "logistic_regression.fit(X_train, y_train)\n",
        "\n",
        "\n",
        "feature_importance = np.abs(logistic_regression.coef_[0])\n",
        "important_features_indices = np.argsort(feature_importance)[::-1]\n",
        "\n",
        "\n",
        "print(\"Important Feature Indices:\", important_features_indices)"
      ],
      "metadata": {
        "colab": {
          "base_uri": "https://localhost:8080/"
        },
        "id": "ohgxUDcsnKfH",
        "outputId": "b10a442a-1f5d-486b-ed72-c0704a50274c"
      },
      "execution_count": 36,
      "outputs": [
        {
          "output_type": "stream",
          "name": "stdout",
          "text": [
            "Important Feature Indices: [ 5 18 14  1 11  2 13 10 16 19 17 15  6  0  9 12  3  4  8  7]\n"
          ]
        }
      ]
    },
    {
      "cell_type": "code",
      "source": [
        "## SOLUTION 19\n",
        "from sklearn.model_selection import train_test_split\n",
        "from sklearn.linear_model import LogisticRegression\n",
        "from sklearn.metrics import cohen_kappa_score\n",
        "from sklearn.datasets import make_classification\n",
        "\n",
        "\n",
        "X, y = make_classification(n_samples=1000, n_features=20, random_state=42)\n",
        "X_train, X_test, y_train, y_test = train_test_split(X, y, test_size=0.3, random_state=42)\n",
        "\n",
        "\n",
        "logistic_regression = LogisticRegression(random_state=42)\n",
        "logistic_regression.fit(X_train, y_train)\n",
        "y_pred = logistic_regression.predict(X_test)\n",
        "\n",
        "\n",
        "kappa = cohen_kappa_score(y_test, y_pred)\n",
        "print(\"Cohen's Kappa Score:\", kappa)"
      ],
      "metadata": {
        "colab": {
          "base_uri": "https://localhost:8080/"
        },
        "id": "jzaRquplnYdL",
        "outputId": "8d5e2fba-b5e9-4ed9-8e70-ff239e01e78e"
      },
      "execution_count": 38,
      "outputs": [
        {
          "output_type": "stream",
          "name": "stdout",
          "text": [
            "Cohen's Kappa Score: 0.7002664298401421\n"
          ]
        }
      ]
    },
    {
      "cell_type": "code",
      "source": [
        "## SOLUTION 20\n",
        "import matplotlib.pyplot as plt\n",
        "from sklearn.model_selection import train_test_split\n",
        "from sklearn.linear_model import LogisticRegression\n",
        "from sklearn.metrics import precision_recall_curve\n",
        "from sklearn.datasets import make_classification\n",
        "from sklearn.metrics import PrecisionRecallDisplay\n",
        "\n",
        "\n",
        "X, y = make_classification(n_samples=1000, n_features=20, random_state=42)\n",
        "X_train, X_test, y_train, y_test = train_test_split(X, y, test_size=0.3, random_state=42)\n",
        "\n",
        "\n",
        "logistic_regression = LogisticRegression(random_state=42)\n",
        "logistic_regression.fit(X_train, y_train)\n",
        "\n",
        "\n",
        "y_pred_proba = logistic_regression.predict_proba(X_test)[:, 1]\n",
        "\n",
        "\n",
        "precision, recall, _ = precision_recall_curve(y_test, y_pred_proba)\n",
        "disp = PrecisionRecallDisplay(precision=precision, recall=recall)\n",
        "disp.plot()\n",
        "plt.title('Precision-Recall Curve')\n",
        "plt.show()"
      ],
      "metadata": {
        "colab": {
          "base_uri": "https://localhost:8080/",
          "height": 472
        },
        "id": "vzB5d4BLntf7",
        "outputId": "e451ec7c-1e07-49f4-d8c9-61e2af61fbca"
      },
      "execution_count": 40,
      "outputs": [
        {
          "output_type": "display_data",
          "data": {
            "text/plain": [
              "<Figure size 640x480 with 1 Axes>"
            ],
            "image/png": "[encoded data removed]"
          },
          "metadata": {}
        }
      ]
    },
    {
      "cell_type": "code",
      "source": [
        "## SOLUTION 21\n",
        "from sklearn.model_selection import train_test_split\n",
        "from sklearn.linear_model import LogisticRegression\n",
        "from sklearn.metrics import accuracy_score\n",
        "from sklearn.datasets import make_classification\n",
        "\n",
        "\n",
        "X, y = make_classification(n_samples=1000, n_features=20, random_state=42)\n",
        "X_train, X_test, y_train, y_test = train_test_split(X, y, test_size=0.3, random_state=42)\n",
        "\n",
        "\n",
        "solvers = ['liblinear', 'saga', 'lbfgs']\n",
        "\n",
        "\n",
        "for solver in solvers:\n",
        " logistic_regression = LogisticRegression(solver=solver, random_state=42)\n",
        " logistic_regression.fit(X_train, y_train)\n",
        " y_pred = logistic_regression.predict(X_test)\n",
        " accuracy = accuracy_score(y_test, y_pred)\n",
        " print(f\"Model Accuracy with solver={solver}:\", accuracy)"
      ],
      "metadata": {
        "colab": {
          "base_uri": "https://localhost:8080/"
        },
        "id": "FVdgtQkvn79E",
        "outputId": "087a97ae-367f-4822-bd6b-0e7462655bfe"
      },
      "execution_count": 41,
      "outputs": [
        {
          "output_type": "stream",
          "name": "stdout",
          "text": [
            "Model Accuracy with solver=liblinear: 0.85\n",
            "Model Accuracy with solver=saga: 0.85\n",
            "Model Accuracy with solver=lbfgs: 0.85\n"
          ]
        }
      ]
    },
    {
      "cell_type": "code",
      "source": [
        "## SOLUTION 22\n",
        "from sklearn.model_selection import train_test_split\n",
        "from sklearn.linear_model import LogisticRegression\n",
        "from sklearn.metrics import matthews_corrcoef\n",
        "from sklearn.datasets import make_classification\n",
        "\n",
        "\n",
        "X, y = make_classification(n_samples=1000, n_features=20, random_state=42)\n",
        "X_train, X_test, y_train, y_test = train_test_split(X, y, test_size=0.3, random_state=42)\n",
        "\n",
        "\n",
        "logistic_regression = LogisticRegression(random_state=42)\n",
        "logistic_regression.fit(X_train, y_train)\n",
        "y_pred = logistic_regression.predict(X_test)\n",
        "\n",
        "\n",
        "mcc = matthews_corrcoef(y_test, y_pred)\n",
        "print(\"Matthews Correlation Coefficient (MCC):\", mcc)"
      ],
      "metadata": {
        "colab": {
          "base_uri": "https://localhost:8080/"
        },
        "id": "U9thiiItoHlj",
        "outputId": "317363f0-0641-481d-af95-00ed30407ada"
      },
      "execution_count": 42,
      "outputs": [
        {
          "output_type": "stream",
          "name": "stdout",
          "text": [
            "Matthews Correlation Coefficient (MCC): 0.7015280729542706\n"
          ]
        }
      ]
    },
    {
      "cell_type": "code",
      "source": [
        "## SOLUTION 23\n",
        "\n",
        "from sklearn.model_selection import train_test_split\n",
        "from sklearn.linear_model import LogisticRegression\n",
        "from sklearn.metrics import accuracy_score\n",
        "from sklearn.preprocessing import StandardScaler\n",
        "from sklearn.datasets import make_classification\n",
        "\n",
        "\n",
        "X, y = make_classification(n_samples=1000, n_features=20, random_state=42)\n",
        "X_train, X_test, y_train, y_test = train_test_split(X, y, test_size=0.3, random_state=42)\n",
        "\n",
        "\n",
        "scaler = StandardScaler()\n",
        "X_train_scaled = scaler.fit_transform(X_train)\n",
        "X_test_scaled = scaler.transform(X_test)\n",
        "\n",
        "\n",
        "logistic_regression_raw = LogisticRegression(random_state=42)\n",
        "logistic_regression_raw.fit(X_train, y_train)\n",
        "y_pred_raw = logistic_regression_raw.predict(X_test)\n",
        "accuracy_raw = accuracy_score(y_test, y_pred_raw)\n",
        "print(\"Model Accuracy on Raw Data:\", accuracy_raw)\n",
        "\n",
        "\n",
        "logistic_regression_scaled = LogisticRegression(random_state=42)\n",
        "logistic_regression_scaled.fit(X_train_scaled, y_train)\n",
        "y_pred_scaled = logistic_regression_scaled.predict(X_test_scaled)\n",
        "accuracy_scaled = accuracy_score(y_test, y_pred_scaled)\n",
        "print(\"Model Accuracy on Standardized Data:\", accuracy_scaled)"
      ],
      "metadata": {
        "colab": {
          "base_uri": "https://localhost:8080/"
        },
        "id": "Xd9YTTCMoUWn",
        "outputId": "a14d7b84-a460-4f00-e2d6-2235ec8b21cf"
      },
      "execution_count": 43,
      "outputs": [
        {
          "output_type": "stream",
          "name": "stdout",
          "text": [
            "Model Accuracy on Raw Data: 0.85\n",
            "Model Accuracy on Standardized Data: 0.85\n"
          ]
        }
      ]
    },
    {
      "cell_type": "code",
      "source": [
        "## SOLUTION 24\n",
        "\n",
        "from sklearn.model_selection import train_test_split, cross_val_score\n",
        "from sklearn.linear_model import LogisticRegression\n",
        "from sklearn.datasets import make_classification\n",
        "import numpy as np\n",
        "\n",
        "\n",
        "X, y = make_classification(n_samples=1000, n_features=20, random_state=42)\n",
        "X_train, X_test, y_train, y_test = train_test_split(X, y, test_size=0.3, random_state=42)\n",
        "\n",
        "\n",
        "C_values = [0.001, 0.01, 0.1, 1, 10, 100]\n",
        "best_C = None\n",
        "best_score = 0\n",
        "\n",
        "\n",
        "for C in C_values:\n",
        " logistic_regression = LogisticRegression(C=C, random_state=42)\n",
        " scores = cross_val_score(logistic_regression, X_train, y_train, cv=5, scoring='accuracy')\n",
        " mean_score = np.mean(scores)\n",
        " if mean_score > best_score:\n",
        "  best_score = mean_score\n",
        " best_C = C\n",
        "\n",
        "\n",
        "print(\"Optimal C:\", best_C)\n",
        "print(\"Best Cross-Validation Score:\", best_score)"
      ],
      "metadata": {
        "colab": {
          "base_uri": "https://localhost:8080/"
        },
        "id": "WD0HJmGBokzQ",
        "outputId": "76befc27-08ed-447a-fc48-086cc1f4f2bc"
      },
      "execution_count": 45,
      "outputs": [
        {
          "output_type": "stream",
          "name": "stdout",
          "text": [
            "Optimal C: 100\n",
            "Best Cross-Validation Score: 0.877142857142857\n"
          ]
        }
      ]
    },
    {
      "cell_type": "code",
      "source": [
        "## SOLUTION 25\n",
        "from sklearn.model_selection import train_test_split\n",
        "from sklearn.linear_model import LogisticRegression\n",
        "from sklearn.datasets import make_classification\n",
        "from sklearn.metrics import accuracy_score\n",
        "import joblib\n",
        "\n",
        "\n",
        "X, y = make_classification(n_samples=1000, n_features=20, random_state=42)\n",
        "X_train, X_test, y_train, y_test = train_test_split(X, y, test_size=0.3, random_state=42)\n",
        "\n",
        "\n",
        "logistic_regression = LogisticRegression(random_state=42)\n",
        "logistic_regression.fit(X_train, y_train)\n",
        "\n",
        "\n",
        "joblib.dump(logistic_regression, 'logistic_regression_model.joblib')\n",
        "\n",
        "\n",
        "loaded_model = joblib.load('logistic_regression_model.joblib')\n",
        "\n",
        "\n",
        "y_pred = loaded_model.predict(X_test)\n",
        "accuracy = accuracy_score(y_test, y_pred)\n",
        "print(\"Model Accuracy after loading:\", accuracy)\n"
      ],
      "metadata": {
        "colab": {
          "base_uri": "https://localhost:8080/"
        },
        "id": "hVlI29kQo10m",
        "outputId": "f33f559f-07c6-4dd7-fc3a-1545e5722ec2"
      },
      "execution_count": 47,
      "outputs": [
        {
          "output_type": "stream",
          "name": "stdout",
          "text": [
            "Model Accuracy after loading: 0.85\n"
          ]
        }
      ]
    },
    {
      "cell_type": "code",
      "source": [],
      "metadata": {
        "id": "dUqY9xMVpHgQ"
      },
      "execution_count": null,
      "outputs": []
    }
  ]
}